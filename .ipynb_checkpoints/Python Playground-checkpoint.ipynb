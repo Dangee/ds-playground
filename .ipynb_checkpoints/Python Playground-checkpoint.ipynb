{
 "cells": [
  {
   "cell_type": "code",
   "execution_count": 1,
   "metadata": {},
   "outputs": [
    {
     "name": "stdout",
     "output_type": "stream",
     "text": [
      "<class 'float'>\n",
      "<class 'bool'>\n"
     ]
    }
   ],
   "source": [
    "print(type(float(False)))\n",
    "print(type(False))"
   ]
  },
  {
   "cell_type": "code",
   "execution_count": 2,
   "metadata": {},
   "outputs": [
    {
     "name": "stdout",
     "output_type": "stream",
     "text": [
      "16\n"
     ]
    }
   ],
   "source": [
    "x = 1\n",
    "\n",
    "while x < 10:\n",
    "    x = x * 2\n",
    "\n",
    "print(x)"
   ]
  },
  {
   "cell_type": "code",
   "execution_count": 3,
   "metadata": {},
   "outputs": [
    {
     "name": "stdout",
     "output_type": "stream",
     "text": [
      "['shirt', 'pants', 'socks']\n",
      "['shirt', 'pants', 'socks']\n",
      "['shirt', 'pants', 'socks']\n"
     ]
    }
   ],
   "source": [
    "packing_list = []\n",
    "packing_list.append(\"shirt\")\n",
    "\n",
    "packing_list_2 = packing_list\n",
    "packing_list_2.append(\"pants\")\n",
    "\n",
    "packing_list_3 = packing_list_2\n",
    "\n",
    "packing_list.append(\"socks\")\n",
    "\n",
    "print(packing_list)\n",
    "print(packing_list_2)\n",
    "print(packing_list_3)\n"
   ]
  },
  {
   "cell_type": "code",
   "execution_count": 4,
   "metadata": {},
   "outputs": [],
   "source": [
    "def is_jacket_required(temp):\n",
    "    if temp > 65:\n",
    "        return False\n",
    "    else:\n",
    "        return True"
   ]
  },
  {
   "cell_type": "markdown",
   "metadata": {},
   "source": [
    "## Codewars kata\n",
    "\n",
    "### Registration"
   ]
  },
  {
   "cell_type": "code",
   "execution_count": 5,
   "metadata": {},
   "outputs": [
    {
     "name": "stdout",
     "output_type": "stream",
     "text": [
      "['1', '3']\n",
      "[1, 3]\n"
     ]
    }
   ],
   "source": [
    "# registration kata - implement a difference function, which subtracts one list from another and returns the result\n",
    "# must remove all occurences of items in \n",
    "def array_diff(a, b):\n",
    "    for i in b:\n",
    "        if i in a:\n",
    "            for c in range(a.count(i)):\n",
    "                a.remove(i)\n",
    "    return a\n",
    "\n",
    "x = array_diff(['1','2','3'],['2'])\n",
    "print(x)\n",
    "\n",
    "y = array_diff([1,2,2,2,3],[2])\n",
    "print(y)"
   ]
  },
  {
   "cell_type": "markdown",
   "metadata": {},
   "source": [
    "### Basic mathematical operations\n",
    "https://www.codewars.com/kata/basic-mathematical-operations"
   ]
  },
  {
   "cell_type": "code",
   "execution_count": 6,
   "metadata": {},
   "outputs": [
    {
     "name": "stdout",
     "output_type": "stream",
     "text": [
      "350.0\n",
      "7250000.0\n",
      "operator not supported!\n",
      "11\n",
      "-3\n",
      "25\n",
      "7.0\n"
     ]
    }
   ],
   "source": [
    "def basic_op(operator, value1, value2):\n",
    "    if operator == '*':\n",
    "        return value1 * value2\n",
    "    elif operator == '+':\n",
    "        return value1 + value2\n",
    "    elif operator == '/':\n",
    "        return value1 / value2\n",
    "    elif operator == '-':\n",
    "        return value1 - value2\n",
    "    else:\n",
    "        return \"operator not supported!\"\n",
    "\n",
    "print(basic_op(\"*\", 100, 3.5))\n",
    "print(basic_op(\"/\", 145000000, 20))\n",
    "print(basic_op(\"!\", 145000000, 20))\n",
    "\n",
    "print(basic_op(\"+\", 4, 7))\n",
    "print(basic_op(\"-\", 15, 18))\n",
    "print(basic_op(\"*\", 5, 5))\n",
    "print(basic_op(\"/\", 49, 7))"
   ]
  },
  {
   "cell_type": "code",
   "execution_count": 7,
   "metadata": {},
   "outputs": [
    {
     "name": "stdout",
     "output_type": "stream",
     "text": [
      "350.0\n",
      "7250000.0\n",
      "operator not supported!\n",
      "11\n",
      "-3\n",
      "25\n",
      "7.0\n"
     ]
    }
   ],
   "source": [
    "def basic_op(operator, value1, value2):\n",
    "    if operator in ['*','+',\"/\",\"-\"]:\n",
    "        return eval(\"{}{}{}\".format(value1, operator, value2))\n",
    "    else:\n",
    "        return \"operator not supported!\"\n",
    "    \n",
    "print(basic_op(\"*\", 100, 3.5))\n",
    "print(basic_op(\"/\", 145000000, 20))\n",
    "print(basic_op(\"!\", 145000000, 20))\n",
    "\n",
    "print(basic_op(\"+\", 4, 7))\n",
    "print(basic_op(\"-\", 15, 18))\n",
    "print(basic_op(\"*\", 5, 5))\n",
    "print(basic_op(\"/\", 49, 7))"
   ]
  },
  {
   "cell_type": "code",
   "execution_count": 8,
   "metadata": {
    "scrolled": true
   },
   "outputs": [
    {
     "name": "stdout",
     "output_type": "stream",
     "text": [
      "350.0\n",
      "7250000.0\n",
      "invalid operation\n",
      "42.875\n",
      "11\n",
      "-3\n",
      "25\n",
      "7.0\n"
     ]
    }
   ],
   "source": [
    "def basic_op(operator, value1, value2):\n",
    "    try:\n",
    "        return eval(f\"{value1}{operator}{value2}\")\n",
    "    except:\n",
    "        return \"invalid operation\"\n",
    "    \n",
    "print(basic_op(\"*\", 100, 3.5))\n",
    "print(basic_op(\"/\", 145000000, 20))\n",
    "print(basic_op(\"!\", 145000000, 20))\n",
    "print(basic_op(\"**\", 3.5, 3))\n",
    "\n",
    "print(basic_op(\"+\", 4, 7))\n",
    "print(basic_op(\"-\", 15, 18))\n",
    "print(basic_op(\"*\", 5, 5))\n",
    "print(basic_op(\"/\", 49, 7))\n"
   ]
  },
  {
   "cell_type": "markdown",
   "metadata": {},
   "source": [
    "### Even / Odd\n",
    "https://www.codewars.com/kata/even-or-odd"
   ]
  },
  {
   "cell_type": "code",
   "execution_count": 9,
   "metadata": {},
   "outputs": [
    {
     "name": "stdout",
     "output_type": "stream",
     "text": [
      "Odd\n",
      "Even\n"
     ]
    }
   ],
   "source": [
    "def even_or_odd(number):\n",
    "    if number%2 == 0:\n",
    "        return \"Even\"\n",
    "    else:\n",
    "        return \"Odd\"\n",
    "\n",
    "print(even_or_odd(11))\n",
    "print(even_or_odd(12))"
   ]
  },
  {
   "cell_type": "code",
   "execution_count": 10,
   "metadata": {},
   "outputs": [
    {
     "name": "stdout",
     "output_type": "stream",
     "text": [
      "Odd\n",
      "Even\n",
      "Even\n",
      "Odd\n",
      "Even\n",
      "Odd\n"
     ]
    }
   ],
   "source": [
    "def even_or_odd(number):\n",
    "    return \"Even\" if number % 2 == 0 else \"Odd\"\n",
    "\n",
    "print(even_or_odd(11))\n",
    "print(even_or_odd(12))\n",
    "\n",
    "print(even_or_odd(2))\n",
    "print(even_or_odd(1))\n",
    "print(even_or_odd(0))\n",
    "print(even_or_odd(9))"
   ]
  },
  {
   "cell_type": "markdown",
   "metadata": {},
   "source": [
    "### Sum of Positives\n",
    "https://www.codewars.com/kata/sum-of-positive"
   ]
  },
  {
   "cell_type": "code",
   "execution_count": null,
   "metadata": {},
   "outputs": [],
   "source": []
  },
  {
   "cell_type": "markdown",
   "metadata": {},
   "source": [
    "## Probability calculations"
   ]
  },
  {
   "cell_type": "markdown",
   "metadata": {},
   "source": [
    "### Burger joint\n",
    "\n",
    "Here’s what you know about customer transactions:\n",
    "\n",
    "All customers order a main dish of either burgers (🍔) or veggie wraps (🌯).\n",
    "All customers order a side dish of either ice cream (🍦) or fries (🍟).\n",
    "\n",
    "What is the probably that customers who order burgers will also order ice cream?"
   ]
  },
  {
   "cell_type": "code",
   "execution_count": 64,
   "metadata": {},
   "outputs": [],
   "source": [
    "import pandas as pd"
   ]
  },
  {
   "cell_type": "code",
   "execution_count": 65,
   "metadata": {
    "scrolled": true
   },
   "outputs": [
    {
     "name": "stdout",
     "output_type": "stream",
     "text": [
      "<class 'pandas.core.frame.DataFrame'>\n",
      "RangeIndex: 10 entries, 0 to 9\n",
      "Data columns (total 2 columns):\n",
      " #   Column     Non-Null Count  Dtype \n",
      "---  ------     --------------  ----- \n",
      " 0   main_dish  10 non-null     object\n",
      " 1   side_dish  10 non-null     object\n",
      "dtypes: object(2)\n",
      "memory usage: 288.0+ bytes\n"
     ]
    }
   ],
   "source": [
    "customer_purchases = [[\"burger\",\"fries\"],\n",
    "            [\"burger\",\"fries\"],\n",
    "            [\"burger\",\"fries\"],\n",
    "            [\"burger\",\"fries\"],\n",
    "            [\"burger\",\"fries\"],\n",
    "            [\"burger\",\"ice cream\"],\n",
    "            [\"burger\",\"ice cream\"],\n",
    "            [\"wrap\",\"fries\"],\n",
    "            [\"wrap\",\"ice cream\"],\n",
    "            [\"wrap\",\"ice cream\"]]\n",
    "\n",
    "customer_data = pd.DataFrame(customer_purchases)\n",
    "customer_data.columns = ['main_dish','side_dish']\n",
    "\n",
    "customer_data.info()"
   ]
  },
  {
   "cell_type": "code",
   "execution_count": 66,
   "metadata": {
    "scrolled": true
   },
   "outputs": [
    {
     "data": {
      "text/html": [
       "<div>\n",
       "<style scoped>\n",
       "    .dataframe tbody tr th:only-of-type {\n",
       "        vertical-align: middle;\n",
       "    }\n",
       "\n",
       "    .dataframe tbody tr th {\n",
       "        vertical-align: top;\n",
       "    }\n",
       "\n",
       "    .dataframe thead th {\n",
       "        text-align: right;\n",
       "    }\n",
       "</style>\n",
       "<table border=\"1\" class=\"dataframe\">\n",
       "  <thead>\n",
       "    <tr style=\"text-align: right;\">\n",
       "      <th></th>\n",
       "      <th>main_dish</th>\n",
       "      <th>side_dish</th>\n",
       "    </tr>\n",
       "  </thead>\n",
       "  <tbody>\n",
       "    <tr>\n",
       "      <th>0</th>\n",
       "      <td>burger</td>\n",
       "      <td>fries</td>\n",
       "    </tr>\n",
       "    <tr>\n",
       "      <th>1</th>\n",
       "      <td>burger</td>\n",
       "      <td>fries</td>\n",
       "    </tr>\n",
       "    <tr>\n",
       "      <th>2</th>\n",
       "      <td>burger</td>\n",
       "      <td>fries</td>\n",
       "    </tr>\n",
       "    <tr>\n",
       "      <th>3</th>\n",
       "      <td>burger</td>\n",
       "      <td>fries</td>\n",
       "    </tr>\n",
       "    <tr>\n",
       "      <th>4</th>\n",
       "      <td>burger</td>\n",
       "      <td>fries</td>\n",
       "    </tr>\n",
       "    <tr>\n",
       "      <th>5</th>\n",
       "      <td>burger</td>\n",
       "      <td>ice cream</td>\n",
       "    </tr>\n",
       "    <tr>\n",
       "      <th>6</th>\n",
       "      <td>burger</td>\n",
       "      <td>ice cream</td>\n",
       "    </tr>\n",
       "    <tr>\n",
       "      <th>7</th>\n",
       "      <td>wrap</td>\n",
       "      <td>fries</td>\n",
       "    </tr>\n",
       "    <tr>\n",
       "      <th>8</th>\n",
       "      <td>wrap</td>\n",
       "      <td>ice cream</td>\n",
       "    </tr>\n",
       "    <tr>\n",
       "      <th>9</th>\n",
       "      <td>wrap</td>\n",
       "      <td>ice cream</td>\n",
       "    </tr>\n",
       "  </tbody>\n",
       "</table>\n",
       "</div>"
      ],
      "text/plain": [
       "  main_dish  side_dish\n",
       "0    burger      fries\n",
       "1    burger      fries\n",
       "2    burger      fries\n",
       "3    burger      fries\n",
       "4    burger      fries\n",
       "5    burger  ice cream\n",
       "6    burger  ice cream\n",
       "7      wrap      fries\n",
       "8      wrap  ice cream\n",
       "9      wrap  ice cream"
      ]
     },
     "execution_count": 66,
     "metadata": {},
     "output_type": "execute_result"
    }
   ],
   "source": [
    "customer_data"
   ]
  },
  {
   "cell_type": "code",
   "execution_count": 102,
   "metadata": {},
   "outputs": [
    {
     "name": "stdout",
     "output_type": "stream",
     "text": [
      "burger\n"
     ]
    }
   ],
   "source": [
    "print(min(customer_data.main_dish))"
   ]
  },
  {
   "cell_type": "code",
   "execution_count": 88,
   "metadata": {},
   "outputs": [
    {
     "name": "stdout",
     "output_type": "stream",
     "text": [
      "data set: 10\n",
      "burger prob: 0.7\n",
      "burger+ice cream prod: 0.2\n"
     ]
    }
   ],
   "source": [
    "data_size = len(customer_data.index)\n",
    "\n",
    "burger_data = customer_data[customer_data.main_dish == 'burger']\n",
    "burger_count = len(burger_data)\n",
    "burger_prob = burger_count/data_size\n",
    "\n",
    "burger_ice_cream_data = burger_data[burger_data.side_dish == 'ice cream']\n",
    "burger_ice_cream_count = len(burger_ice_cream_data) \n",
    "burger_ice_cream_prob =  burger_ice_cream_count/data_size\n",
    "\n",
    "print(f\"data set: {data_size}\")\n",
    "print(f\"burger prob: {burger_prob}\")\n",
    "print(f\"burger+ice cream prod: {burger_ice_cream_prob}\")\n",
    "\n"
   ]
  },
  {
   "cell_type": "code",
   "execution_count": 92,
   "metadata": {},
   "outputs": [
    {
     "name": "stdout",
     "output_type": "stream",
     "text": [
      "order ice cream with burger prob: 0.28571428571428575\n"
     ]
    }
   ],
   "source": [
    "print(f\"order ice cream with burger prob: {burger_ice_cream_prob/burger_prob}\")"
   ]
  },
  {
   "cell_type": "code",
   "execution_count": 93,
   "metadata": {},
   "outputs": [
    {
     "name": "stdout",
     "output_type": "stream",
     "text": [
      "data set: 10\n",
      "veggie wrap prob: 0.3\n",
      "veggie wrap + fries prod: 0.1\n"
     ]
    }
   ],
   "source": [
    "wrap_data = customer_data[customer_data.main_dish == 'wrap']\n",
    "wrap_count = len(wrap_data)\n",
    "wrap_prob = wrap_count/data_size\n",
    "\n",
    "wrap_fries_data = wrap_data[wrap_data.side_dish == 'fries']\n",
    "wrap_fries_count = len(wrap_fries_data) \n",
    "wrap_fries_prob =  wrap_fries_count/data_size\n",
    "\n",
    "print(f\"data set: {data_size}\")\n",
    "print(f\"veggie wrap prob: {wrap_prob}\")\n",
    "print(f\"veggie wrap + fries prod: {wrap_fries_prob}\")"
   ]
  },
  {
   "cell_type": "code",
   "execution_count": 95,
   "metadata": {},
   "outputs": [
    {
     "name": "stdout",
     "output_type": "stream",
     "text": [
      "order fries with veggies wrap prob: 0.33333333333333337\n"
     ]
    }
   ],
   "source": [
    "print(f\"order fries with veggies wrap prob: {wrap_fries_prob/wrap_prob}\")"
   ]
  },
  {
   "cell_type": "markdown",
   "metadata": {},
   "source": [
    "## Next section"
   ]
  },
  {
   "cell_type": "code",
   "execution_count": null,
   "metadata": {},
   "outputs": [],
   "source": []
  }
 ],
 "metadata": {
  "instance_type": "ml.t3.medium",
  "kernelspec": {
   "display_name": "Python 3 (Data Science)",
   "language": "python",
   "name": "python3__SAGEMAKER_INTERNAL__arn:aws:sagemaker:us-west-2:236514542706:image/datascience-1.0"
  },
  "language_info": {
   "codemirror_mode": {
    "name": "ipython",
    "version": 3
   },
   "file_extension": ".py",
   "mimetype": "text/x-python",
   "name": "python",
   "nbconvert_exporter": "python",
   "pygments_lexer": "ipython3",
   "version": "3.7.10"
  }
 },
 "nbformat": 4,
 "nbformat_minor": 5
}
