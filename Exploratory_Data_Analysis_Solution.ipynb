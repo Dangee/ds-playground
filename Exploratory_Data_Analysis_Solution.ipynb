{
 "cells": [
  {
   "cell_type": "markdown",
   "metadata": {},
   "source": [
    "# Pandas EDA"
   ]
  },
  {
   "cell_type": "markdown",
   "metadata": {},
   "source": [
    "## 1. EDA Demonstration"
   ]
  },
  {
   "cell_type": "code",
   "execution_count": 3,
   "metadata": {
    "id": "wK9w2-mDRgiK"
   },
   "outputs": [],
   "source": [
    "import pandas as pd"
   ]
  },
  {
   "cell_type": "code",
   "execution_count": 5,
   "metadata": {
    "id": "DP87l91URgiP"
   },
   "outputs": [],
   "source": [
    "# We will store the table csv data in a variable\n",
    "# Tabs are used as the separating character in this file\n",
    "orders = pd.read_csv('data/orders.csv')"
   ]
  },
  {
   "cell_type": "code",
   "execution_count": 6,
   "metadata": {
    "id": "JBRsbDZ-RgiQ"
   },
   "outputs": [
    {
     "data": {
      "text/html": [
       "<div>\n",
       "<style scoped>\n",
       "    .dataframe tbody tr th:only-of-type {\n",
       "        vertical-align: middle;\n",
       "    }\n",
       "\n",
       "    .dataframe tbody tr th {\n",
       "        vertical-align: top;\n",
       "    }\n",
       "\n",
       "    .dataframe thead th {\n",
       "        text-align: right;\n",
       "    }\n",
       "</style>\n",
       "<table border=\"1\" class=\"dataframe\">\n",
       "  <thead>\n",
       "    <tr style=\"text-align: right;\">\n",
       "      <th></th>\n",
       "      <th>order_id</th>\n",
       "      <th>order_date</th>\n",
       "      <th>ship_date</th>\n",
       "      <th>ship_mode</th>\n",
       "      <th>customer_id</th>\n",
       "      <th>product_id</th>\n",
       "      <th>sales</th>\n",
       "      <th>quantity</th>\n",
       "      <th>discount</th>\n",
       "      <th>profit</th>\n",
       "      <th>postal_code</th>\n",
       "      <th>region_id</th>\n",
       "    </tr>\n",
       "  </thead>\n",
       "  <tbody>\n",
       "    <tr>\n",
       "      <th>0</th>\n",
       "      <td>ES-2019-3581298</td>\n",
       "      <td>2019-10-05</td>\n",
       "      <td>2019-10-10</td>\n",
       "      <td>Standard Class</td>\n",
       "      <td>MW-18220</td>\n",
       "      <td>FUR-BO-10002318</td>\n",
       "      <td>1239.84</td>\n",
       "      <td>3</td>\n",
       "      <td>0.25</td>\n",
       "      <td>0.19</td>\n",
       "      <td>NaN</td>\n",
       "      <td>28804.0</td>\n",
       "    </tr>\n",
       "    <tr>\n",
       "      <th>1</th>\n",
       "      <td>CA-2018-2597967</td>\n",
       "      <td>2018-12-06</td>\n",
       "      <td>2018-12-08</td>\n",
       "      <td>Standard Class</td>\n",
       "      <td>TS-21430</td>\n",
       "      <td>FUR-FU-10003096</td>\n",
       "      <td>30.36</td>\n",
       "      <td>4</td>\n",
       "      <td>0.28</td>\n",
       "      <td>0.24</td>\n",
       "      <td>NaN</td>\n",
       "      <td>7530.0</td>\n",
       "    </tr>\n",
       "    <tr>\n",
       "      <th>2</th>\n",
       "      <td>ES-2017-410130</td>\n",
       "      <td>2017-04-20</td>\n",
       "      <td>2017-04-21</td>\n",
       "      <td>Second Class</td>\n",
       "      <td>ES-14080</td>\n",
       "      <td>OFF-BI-10004007</td>\n",
       "      <td>14.69</td>\n",
       "      <td>1</td>\n",
       "      <td>0.12</td>\n",
       "      <td>0.10</td>\n",
       "      <td>NaN</td>\n",
       "      <td>69959.0</td>\n",
       "    </tr>\n",
       "    <tr>\n",
       "      <th>3</th>\n",
       "      <td>IT-2019-1363430</td>\n",
       "      <td>2019-09-03</td>\n",
       "      <td>2019-09-04</td>\n",
       "      <td>Second Class</td>\n",
       "      <td>RP-19390</td>\n",
       "      <td>OFF-BI-10002040</td>\n",
       "      <td>15.40</td>\n",
       "      <td>1</td>\n",
       "      <td>0.15</td>\n",
       "      <td>0.10</td>\n",
       "      <td>NaN</td>\n",
       "      <td>4715.0</td>\n",
       "    </tr>\n",
       "    <tr>\n",
       "      <th>4</th>\n",
       "      <td>ID-2018-682568</td>\n",
       "      <td>2018-10-29</td>\n",
       "      <td>2018-10-29</td>\n",
       "      <td>Standard Class</td>\n",
       "      <td>PH-18790</td>\n",
       "      <td>TEC-CO-10000452</td>\n",
       "      <td>656.99</td>\n",
       "      <td>3</td>\n",
       "      <td>0.23</td>\n",
       "      <td>0.19</td>\n",
       "      <td>6824.0</td>\n",
       "      <td>5636.0</td>\n",
       "    </tr>\n",
       "  </tbody>\n",
       "</table>\n",
       "</div>"
      ],
      "text/plain": [
       "          order_id  order_date   ship_date       ship_mode customer_id  \\\n",
       "0  ES-2019-3581298  2019-10-05  2019-10-10  Standard Class    MW-18220   \n",
       "1  CA-2018-2597967  2018-12-06  2018-12-08  Standard Class    TS-21430   \n",
       "2   ES-2017-410130  2017-04-20  2017-04-21    Second Class    ES-14080   \n",
       "3  IT-2019-1363430  2019-09-03  2019-09-04    Second Class    RP-19390   \n",
       "4   ID-2018-682568  2018-10-29  2018-10-29  Standard Class    PH-18790   \n",
       "\n",
       "        product_id    sales  quantity  discount  profit  postal_code  \\\n",
       "0  FUR-BO-10002318  1239.84         3      0.25    0.19          NaN   \n",
       "1  FUR-FU-10003096    30.36         4      0.28    0.24          NaN   \n",
       "2  OFF-BI-10004007    14.69         1      0.12    0.10          NaN   \n",
       "3  OFF-BI-10002040    15.40         1      0.15    0.10          NaN   \n",
       "4  TEC-CO-10000452   656.99         3      0.23    0.19       6824.0   \n",
       "\n",
       "   region_id  \n",
       "0    28804.0  \n",
       "1     7530.0  \n",
       "2    69959.0  \n",
       "3     4715.0  \n",
       "4     5636.0  "
      ]
     },
     "execution_count": 6,
     "metadata": {},
     "output_type": "execute_result"
    }
   ],
   "source": [
    "# Use the head method to investigate the first row of data\n",
    "orders.head()"
   ]
  },
  {
   "cell_type": "code",
   "execution_count": 7,
   "metadata": {
    "id": "EU26bED1RgiQ"
   },
   "outputs": [
    {
     "data": {
      "text/html": [
       "<div>\n",
       "<style scoped>\n",
       "    .dataframe tbody tr th:only-of-type {\n",
       "        vertical-align: middle;\n",
       "    }\n",
       "\n",
       "    .dataframe tbody tr th {\n",
       "        vertical-align: top;\n",
       "    }\n",
       "\n",
       "    .dataframe thead th {\n",
       "        text-align: right;\n",
       "    }\n",
       "</style>\n",
       "<table border=\"1\" class=\"dataframe\">\n",
       "  <thead>\n",
       "    <tr style=\"text-align: right;\">\n",
       "      <th></th>\n",
       "      <th>DataType</th>\n",
       "    </tr>\n",
       "  </thead>\n",
       "  <tbody>\n",
       "    <tr>\n",
       "      <th>order_id</th>\n",
       "      <td>object</td>\n",
       "    </tr>\n",
       "    <tr>\n",
       "      <th>order_date</th>\n",
       "      <td>object</td>\n",
       "    </tr>\n",
       "    <tr>\n",
       "      <th>ship_date</th>\n",
       "      <td>object</td>\n",
       "    </tr>\n",
       "    <tr>\n",
       "      <th>ship_mode</th>\n",
       "      <td>object</td>\n",
       "    </tr>\n",
       "    <tr>\n",
       "      <th>customer_id</th>\n",
       "      <td>object</td>\n",
       "    </tr>\n",
       "    <tr>\n",
       "      <th>product_id</th>\n",
       "      <td>object</td>\n",
       "    </tr>\n",
       "    <tr>\n",
       "      <th>sales</th>\n",
       "      <td>float64</td>\n",
       "    </tr>\n",
       "    <tr>\n",
       "      <th>quantity</th>\n",
       "      <td>int64</td>\n",
       "    </tr>\n",
       "    <tr>\n",
       "      <th>discount</th>\n",
       "      <td>float64</td>\n",
       "    </tr>\n",
       "    <tr>\n",
       "      <th>profit</th>\n",
       "      <td>float64</td>\n",
       "    </tr>\n",
       "    <tr>\n",
       "      <th>postal_code</th>\n",
       "      <td>float64</td>\n",
       "    </tr>\n",
       "    <tr>\n",
       "      <th>region_id</th>\n",
       "      <td>float64</td>\n",
       "    </tr>\n",
       "  </tbody>\n",
       "</table>\n",
       "</div>"
      ],
      "text/plain": [
       "            DataType\n",
       "order_id      object\n",
       "order_date    object\n",
       "ship_date     object\n",
       "ship_mode     object\n",
       "customer_id   object\n",
       "product_id    object\n",
       "sales        float64\n",
       "quantity       int64\n",
       "discount     float64\n",
       "profit       float64\n",
       "postal_code  float64\n",
       "region_id    float64"
      ]
     },
     "execution_count": 7,
     "metadata": {},
     "output_type": "execute_result"
    }
   ],
   "source": [
    "# Create a dataframe to view the column names and data types\n",
    "pd.DataFrame(orders.dtypes, columns=[\"DataType\"])"
   ]
  },
  {
   "cell_type": "code",
   "execution_count": 8,
   "metadata": {
    "id": "7n7mylUkRgiR"
   },
   "outputs": [
    {
     "name": "stdout",
     "output_type": "stream",
     "text": [
      "There are 5000 rows and 12 columns\n"
     ]
    }
   ],
   "source": [
    "# Use the shape attribute to determine the amount of rows and columns total\n",
    "orders.shape\n",
    "print(f\"There are {orders.shape[0]} rows and {orders.shape[1]} columns\")"
   ]
  },
  {
   "cell_type": "code",
   "execution_count": 10,
   "metadata": {
    "id": "QWk-oYHPRgiR"
   },
   "outputs": [
    {
     "name": "stdout",
     "output_type": "stream",
     "text": [
      "Index(['order_id', 'order_date', 'ship_date', 'ship_mode', 'customer_id',\n",
      "       'product_id', 'sales', 'quantity', 'discount', 'profit', 'postal_code',\n",
      "       'region_id'],\n",
      "      dtype='object')\n",
      "RangeIndex(start=0, stop=5000, step=1)\n"
     ]
    }
   ],
   "source": [
    "# Use the .columns property to list out the column names\n",
    "# Use the .index.name property to identify the index\n",
    "print(orders.columns)\n",
    "print(orders.index)"
   ]
  },
  {
   "cell_type": "code",
   "execution_count": 11,
   "metadata": {
    "id": "-D8OVPNjRgiS"
   },
   "outputs": [
    {
     "data": {
      "text/html": [
       "<div>\n",
       "<style scoped>\n",
       "    .dataframe tbody tr th:only-of-type {\n",
       "        vertical-align: middle;\n",
       "    }\n",
       "\n",
       "    .dataframe tbody tr th {\n",
       "        vertical-align: top;\n",
       "    }\n",
       "\n",
       "    .dataframe thead th {\n",
       "        text-align: right;\n",
       "    }\n",
       "</style>\n",
       "<table border=\"1\" class=\"dataframe\">\n",
       "  <thead>\n",
       "    <tr style=\"text-align: right;\">\n",
       "      <th></th>\n",
       "      <th>order_id</th>\n",
       "      <th>ordered_on_date</th>\n",
       "      <th>ship_date</th>\n",
       "      <th>ship_mode</th>\n",
       "      <th>customer_id</th>\n",
       "      <th>product_id</th>\n",
       "      <th>sales</th>\n",
       "      <th>quantity</th>\n",
       "      <th>discount_amount</th>\n",
       "      <th>profit</th>\n",
       "      <th>postal_code</th>\n",
       "      <th>region_id</th>\n",
       "    </tr>\n",
       "  </thead>\n",
       "  <tbody>\n",
       "    <tr>\n",
       "      <th>0</th>\n",
       "      <td>ES-2019-3581298</td>\n",
       "      <td>2019-10-05</td>\n",
       "      <td>2019-10-10</td>\n",
       "      <td>Standard Class</td>\n",
       "      <td>MW-18220</td>\n",
       "      <td>FUR-BO-10002318</td>\n",
       "      <td>1239.84</td>\n",
       "      <td>3</td>\n",
       "      <td>0.25</td>\n",
       "      <td>0.19</td>\n",
       "      <td>NaN</td>\n",
       "      <td>28804.0</td>\n",
       "    </tr>\n",
       "    <tr>\n",
       "      <th>1</th>\n",
       "      <td>CA-2018-2597967</td>\n",
       "      <td>2018-12-06</td>\n",
       "      <td>2018-12-08</td>\n",
       "      <td>Standard Class</td>\n",
       "      <td>TS-21430</td>\n",
       "      <td>FUR-FU-10003096</td>\n",
       "      <td>30.36</td>\n",
       "      <td>4</td>\n",
       "      <td>0.28</td>\n",
       "      <td>0.24</td>\n",
       "      <td>NaN</td>\n",
       "      <td>7530.0</td>\n",
       "    </tr>\n",
       "    <tr>\n",
       "      <th>2</th>\n",
       "      <td>ES-2017-410130</td>\n",
       "      <td>2017-04-20</td>\n",
       "      <td>2017-04-21</td>\n",
       "      <td>Second Class</td>\n",
       "      <td>ES-14080</td>\n",
       "      <td>OFF-BI-10004007</td>\n",
       "      <td>14.69</td>\n",
       "      <td>1</td>\n",
       "      <td>0.12</td>\n",
       "      <td>0.10</td>\n",
       "      <td>NaN</td>\n",
       "      <td>69959.0</td>\n",
       "    </tr>\n",
       "    <tr>\n",
       "      <th>3</th>\n",
       "      <td>IT-2019-1363430</td>\n",
       "      <td>2019-09-03</td>\n",
       "      <td>2019-09-04</td>\n",
       "      <td>Second Class</td>\n",
       "      <td>RP-19390</td>\n",
       "      <td>OFF-BI-10002040</td>\n",
       "      <td>15.40</td>\n",
       "      <td>1</td>\n",
       "      <td>0.15</td>\n",
       "      <td>0.10</td>\n",
       "      <td>NaN</td>\n",
       "      <td>4715.0</td>\n",
       "    </tr>\n",
       "    <tr>\n",
       "      <th>4</th>\n",
       "      <td>ID-2018-682568</td>\n",
       "      <td>2018-10-29</td>\n",
       "      <td>2018-10-29</td>\n",
       "      <td>Standard Class</td>\n",
       "      <td>PH-18790</td>\n",
       "      <td>TEC-CO-10000452</td>\n",
       "      <td>656.99</td>\n",
       "      <td>3</td>\n",
       "      <td>0.23</td>\n",
       "      <td>0.19</td>\n",
       "      <td>6824.0</td>\n",
       "      <td>5636.0</td>\n",
       "    </tr>\n",
       "    <tr>\n",
       "      <th>...</th>\n",
       "      <td>...</td>\n",
       "      <td>...</td>\n",
       "      <td>...</td>\n",
       "      <td>...</td>\n",
       "      <td>...</td>\n",
       "      <td>...</td>\n",
       "      <td>...</td>\n",
       "      <td>...</td>\n",
       "      <td>...</td>\n",
       "      <td>...</td>\n",
       "      <td>...</td>\n",
       "      <td>...</td>\n",
       "    </tr>\n",
       "    <tr>\n",
       "      <th>4995</th>\n",
       "      <td>IN-2018-63053</td>\n",
       "      <td>2018-12-14</td>\n",
       "      <td>2018-12-16</td>\n",
       "      <td>Same Day</td>\n",
       "      <td>KM-16660</td>\n",
       "      <td>OFF-LA-10003644</td>\n",
       "      <td>54.39</td>\n",
       "      <td>7</td>\n",
       "      <td>0.23</td>\n",
       "      <td>0.19</td>\n",
       "      <td>NaN</td>\n",
       "      <td>1410.0</td>\n",
       "    </tr>\n",
       "    <tr>\n",
       "      <th>4996</th>\n",
       "      <td>MX-2019-4981245</td>\n",
       "      <td>2019-11-28</td>\n",
       "      <td>2019-12-01</td>\n",
       "      <td>Standard Class</td>\n",
       "      <td>SC-20725</td>\n",
       "      <td>OFF-AR-10003680</td>\n",
       "      <td>19.74</td>\n",
       "      <td>1</td>\n",
       "      <td>0.15</td>\n",
       "      <td>0.10</td>\n",
       "      <td>78415.0</td>\n",
       "      <td>1488.0</td>\n",
       "    </tr>\n",
       "    <tr>\n",
       "      <th>4997</th>\n",
       "      <td>MZ-2019-4195017</td>\n",
       "      <td>2019-06-22</td>\n",
       "      <td>2019-06-26</td>\n",
       "      <td>Same Day</td>\n",
       "      <td>JW-5220</td>\n",
       "      <td>OFF-OIC-10000121</td>\n",
       "      <td>27.72</td>\n",
       "      <td>2</td>\n",
       "      <td>0.05</td>\n",
       "      <td>0.00</td>\n",
       "      <td>80027.0</td>\n",
       "      <td>4553.0</td>\n",
       "    </tr>\n",
       "    <tr>\n",
       "      <th>4998</th>\n",
       "      <td>NI-2018-1509129</td>\n",
       "      <td>2018-08-19</td>\n",
       "      <td>2018-08-22</td>\n",
       "      <td>Second Class</td>\n",
       "      <td>MC-7425</td>\n",
       "      <td>TEC-BEL-10003985</td>\n",
       "      <td>621.50</td>\n",
       "      <td>8</td>\n",
       "      <td>0.03</td>\n",
       "      <td>0.00</td>\n",
       "      <td>NaN</td>\n",
       "      <td>19848.0</td>\n",
       "    </tr>\n",
       "    <tr>\n",
       "      <th>4999</th>\n",
       "      <td>CA-2017-3999191</td>\n",
       "      <td>2017-11-07</td>\n",
       "      <td>2017-11-12</td>\n",
       "      <td>Standard Class</td>\n",
       "      <td>MS-17830</td>\n",
       "      <td>FUR-FU-10002759</td>\n",
       "      <td>79.92</td>\n",
       "      <td>4</td>\n",
       "      <td>0.27</td>\n",
       "      <td>0.24</td>\n",
       "      <td>NaN</td>\n",
       "      <td>5003.0</td>\n",
       "    </tr>\n",
       "  </tbody>\n",
       "</table>\n",
       "<p>5000 rows × 12 columns</p>\n",
       "</div>"
      ],
      "text/plain": [
       "             order_id ordered_on_date   ship_date       ship_mode customer_id  \\\n",
       "0     ES-2019-3581298      2019-10-05  2019-10-10  Standard Class    MW-18220   \n",
       "1     CA-2018-2597967      2018-12-06  2018-12-08  Standard Class    TS-21430   \n",
       "2      ES-2017-410130      2017-04-20  2017-04-21    Second Class    ES-14080   \n",
       "3     IT-2019-1363430      2019-09-03  2019-09-04    Second Class    RP-19390   \n",
       "4      ID-2018-682568      2018-10-29  2018-10-29  Standard Class    PH-18790   \n",
       "...               ...             ...         ...             ...         ...   \n",
       "4995    IN-2018-63053      2018-12-14  2018-12-16        Same Day    KM-16660   \n",
       "4996  MX-2019-4981245      2019-11-28  2019-12-01  Standard Class    SC-20725   \n",
       "4997  MZ-2019-4195017      2019-06-22  2019-06-26        Same Day     JW-5220   \n",
       "4998  NI-2018-1509129      2018-08-19  2018-08-22    Second Class     MC-7425   \n",
       "4999  CA-2017-3999191      2017-11-07  2017-11-12  Standard Class    MS-17830   \n",
       "\n",
       "            product_id    sales  quantity  discount_amount  profit  \\\n",
       "0      FUR-BO-10002318  1239.84         3             0.25    0.19   \n",
       "1      FUR-FU-10003096    30.36         4             0.28    0.24   \n",
       "2      OFF-BI-10004007    14.69         1             0.12    0.10   \n",
       "3      OFF-BI-10002040    15.40         1             0.15    0.10   \n",
       "4      TEC-CO-10000452   656.99         3             0.23    0.19   \n",
       "...                ...      ...       ...              ...     ...   \n",
       "4995   OFF-LA-10003644    54.39         7             0.23    0.19   \n",
       "4996   OFF-AR-10003680    19.74         1             0.15    0.10   \n",
       "4997  OFF-OIC-10000121    27.72         2             0.05    0.00   \n",
       "4998  TEC-BEL-10003985   621.50         8             0.03    0.00   \n",
       "4999   FUR-FU-10002759    79.92         4             0.27    0.24   \n",
       "\n",
       "      postal_code  region_id  \n",
       "0             NaN    28804.0  \n",
       "1             NaN     7530.0  \n",
       "2             NaN    69959.0  \n",
       "3             NaN     4715.0  \n",
       "4          6824.0     5636.0  \n",
       "...           ...        ...  \n",
       "4995          NaN     1410.0  \n",
       "4996      78415.0     1488.0  \n",
       "4997      80027.0     4553.0  \n",
       "4998          NaN    19848.0  \n",
       "4999          NaN     5003.0  \n",
       "\n",
       "[5000 rows x 12 columns]"
      ]
     },
     "execution_count": 11,
     "metadata": {},
     "output_type": "execute_result"
    }
   ],
   "source": [
    "# Provide a dictionary to the rename method to rename any columns\n",
    "# The inplace flag determines whether to modify the original dataframe\n",
    "orders.rename(columns={\"discount\": \"discount_amount\", \"order_date\": \"ordered_on_date\"}, inplace=False)"
   ]
  },
  {
   "cell_type": "code",
   "execution_count": 13,
   "metadata": {
    "id": "LXvFmnXzRgiS"
   },
   "outputs": [
    {
     "data": {
      "text/plain": [
       "10035.0    90\n",
       "90049.0    66\n",
       "98115.0    55\n",
       "19143.0    48\n",
       "94122.0    48\n",
       "           ..\n",
       "49423.0     1\n",
       "85301.0     1\n",
       "2149.0      1\n",
       "33433.0     1\n",
       "20852.0     1\n",
       "Name: postal_code, Length: 278, dtype: int64"
      ]
     },
     "execution_count": 13,
     "metadata": {},
     "output_type": "execute_result"
    }
   ],
   "source": [
    "# Explore columns with column attributes and methods\n",
    "orders['postal_code'].value_counts()\n"
   ]
  },
  {
   "cell_type": "code",
   "execution_count": 14,
   "metadata": {},
   "outputs": [
    {
     "data": {
      "text/plain": [
       "279"
      ]
     },
     "execution_count": 14,
     "metadata": {},
     "output_type": "execute_result"
    }
   ],
   "source": [
    "len(orders['postal_code'].unique())\n"
   ]
  },
  {
   "cell_type": "code",
   "execution_count": 15,
   "metadata": {},
   "outputs": [
    {
     "data": {
      "text/plain": [
       "count    5000.000000\n",
       "mean        1.978328\n",
       "std        38.126910\n",
       "min      -734.530000\n",
       "25%         0.100000\n",
       "50%         0.200000\n",
       "75%         0.290000\n",
       "max      1537.830000\n",
       "Name: profit, dtype: float64"
      ]
     },
     "execution_count": 15,
     "metadata": {},
     "output_type": "execute_result"
    }
   ],
   "source": [
    "orders['profit'].describe()"
   ]
  },
  {
   "cell_type": "markdown",
   "metadata": {},
   "source": [
    "## 2. Exploring a new dataset"
   ]
  },
  {
   "cell_type": "code",
   "execution_count": 11,
   "metadata": {
    "id": "TW9AkUYoRgiT"
   },
   "outputs": [],
   "source": [
    "# Import the products.csv dataset and explore the following questions:\n",
    "products = pd.read_csv('data/datasets/products.csv')"
   ]
  },
  {
   "cell_type": "code",
   "execution_count": 12,
   "metadata": {
    "id": "TJ62RXK-RgiU"
   },
   "outputs": [
    {
     "data": {
      "text/plain": [
       "Index(['product_id', 'category', 'sub_category', 'product_name',\n",
       "       'product_cost_to_consumer'],\n",
       "      dtype='object')"
      ]
     },
     "execution_count": 12,
     "metadata": {},
     "output_type": "execute_result"
    }
   ],
   "source": [
    "# A. What are the columns and index: do they suggest any relationship to other tables?\n",
    "products.columns"
   ]
  },
  {
   "cell_type": "code",
   "execution_count": 13,
   "metadata": {
    "id": "Ks-3uiyZRgiV"
   },
   "outputs": [
    {
     "data": {
      "text/plain": [
       "10292"
      ]
     },
     "execution_count": 13,
     "metadata": {},
     "output_type": "execute_result"
    }
   ],
   "source": [
    "# B. How many rows of data are there?\n",
    "products.shape[0]"
   ]
  },
  {
   "cell_type": "code",
   "execution_count": 14,
   "metadata": {
    "id": "r686W75CRgiV"
   },
   "outputs": [
    {
     "data": {
      "text/html": [
       "<div>\n",
       "<style scoped>\n",
       "    .dataframe tbody tr th:only-of-type {\n",
       "        vertical-align: middle;\n",
       "    }\n",
       "\n",
       "    .dataframe tbody tr th {\n",
       "        vertical-align: top;\n",
       "    }\n",
       "\n",
       "    .dataframe thead th {\n",
       "        text-align: right;\n",
       "    }\n",
       "</style>\n",
       "<table border=\"1\" class=\"dataframe\">\n",
       "  <thead>\n",
       "    <tr style=\"text-align: right;\">\n",
       "      <th></th>\n",
       "      <th>DataType</th>\n",
       "    </tr>\n",
       "  </thead>\n",
       "  <tbody>\n",
       "    <tr>\n",
       "      <th>product_id</th>\n",
       "      <td>object</td>\n",
       "    </tr>\n",
       "    <tr>\n",
       "      <th>category</th>\n",
       "      <td>object</td>\n",
       "    </tr>\n",
       "    <tr>\n",
       "      <th>sub_category</th>\n",
       "      <td>object</td>\n",
       "    </tr>\n",
       "    <tr>\n",
       "      <th>product_name</th>\n",
       "      <td>object</td>\n",
       "    </tr>\n",
       "    <tr>\n",
       "      <th>product_cost_to_consumer</th>\n",
       "      <td>float64</td>\n",
       "    </tr>\n",
       "  </tbody>\n",
       "</table>\n",
       "</div>"
      ],
      "text/plain": [
       "                         DataType\n",
       "product_id                 object\n",
       "category                   object\n",
       "sub_category               object\n",
       "product_name               object\n",
       "product_cost_to_consumer  float64"
      ]
     },
     "execution_count": 14,
     "metadata": {},
     "output_type": "execute_result"
    }
   ],
   "source": [
    "# C. What are the types of each column?\n",
    "pd.DataFrame(products.dtypes, columns=[\"DataType\"])"
   ]
  },
  {
   "cell_type": "markdown",
   "metadata": {},
   "source": [
    "## 3. Boolean Filtering"
   ]
  },
  {
   "cell_type": "code",
   "execution_count": 16,
   "metadata": {
    "id": "VCu6-axzRgiW"
   },
   "outputs": [],
   "source": [
    "# Let's return to the orders dataset for the rest of the challenges\n",
    "# Use boolean filtering and DataFrame/DataSeries methods to solve the following challanges:"
   ]
  },
  {
   "cell_type": "code",
   "execution_count": 17,
   "metadata": {
    "id": "2iCzMIb7RgiW"
   },
   "outputs": [
    {
     "data": {
      "text/plain": [
       "0.7557168894289046"
      ]
     },
     "execution_count": 17,
     "metadata": {},
     "output_type": "execute_result"
    }
   ],
   "source": [
    "# A. What is the mean profit of orders where the ship_mode is \"Second Class\"\n",
    "orders[orders[\"ship_mode\"] == \"Second Class\"][\"profit\"].mean()"
   ]
  },
  {
   "cell_type": "code",
   "execution_count": 25,
   "metadata": {
    "id": "_Zgl0aZXRgiW"
   },
   "outputs": [
    {
     "data": {
      "text/html": [
       "<div>\n",
       "<style scoped>\n",
       "    .dataframe tbody tr th:only-of-type {\n",
       "        vertical-align: middle;\n",
       "    }\n",
       "\n",
       "    .dataframe tbody tr th {\n",
       "        vertical-align: top;\n",
       "    }\n",
       "\n",
       "    .dataframe thead th {\n",
       "        text-align: right;\n",
       "    }\n",
       "</style>\n",
       "<table border=\"1\" class=\"dataframe\">\n",
       "  <thead>\n",
       "    <tr style=\"text-align: right;\">\n",
       "      <th></th>\n",
       "      <th>quantity</th>\n",
       "    </tr>\n",
       "    <tr>\n",
       "      <th>product_id</th>\n",
       "      <th></th>\n",
       "    </tr>\n",
       "  </thead>\n",
       "  <tbody>\n",
       "    <tr>\n",
       "      <th>FUR-BO-10002318</th>\n",
       "      <td>3</td>\n",
       "    </tr>\n",
       "    <tr>\n",
       "      <th>FUR-FU-10003878</th>\n",
       "      <td>2</td>\n",
       "    </tr>\n",
       "    <tr>\n",
       "      <th>OFF-BI-10000930</th>\n",
       "      <td>5</td>\n",
       "    </tr>\n",
       "    <tr>\n",
       "      <th>OFF-BI-10003806</th>\n",
       "      <td>2</td>\n",
       "    </tr>\n",
       "    <tr>\n",
       "      <th>OFF-ELD-10002279</th>\n",
       "      <td>2</td>\n",
       "    </tr>\n",
       "    <tr>\n",
       "      <th>OFF-EN-10004560</th>\n",
       "      <td>2</td>\n",
       "    </tr>\n",
       "    <tr>\n",
       "      <th>OFF-LA-10002088</th>\n",
       "      <td>1</td>\n",
       "    </tr>\n",
       "    <tr>\n",
       "      <th>OFF-PA-10004675</th>\n",
       "      <td>3</td>\n",
       "    </tr>\n",
       "    <tr>\n",
       "      <th>TEC-PH-10001817</th>\n",
       "      <td>4</td>\n",
       "    </tr>\n",
       "  </tbody>\n",
       "</table>\n",
       "</div>"
      ],
      "text/plain": [
       "                  quantity\n",
       "product_id                \n",
       "FUR-BO-10002318          3\n",
       "FUR-FU-10003878          2\n",
       "OFF-BI-10000930          5\n",
       "OFF-BI-10003806          2\n",
       "OFF-ELD-10002279         2\n",
       "OFF-EN-10004560          2\n",
       "OFF-LA-10002088          1\n",
       "OFF-PA-10004675          3\n",
       "TEC-PH-10001817          4"
      ]
     },
     "execution_count": 25,
     "metadata": {},
     "output_type": "execute_result"
    }
   ],
   "source": [
    "# B. Which product is the most commonly ordered on 2019-10-05 \n",
    "orders[orders[\"order_date\"]==\"2019-10-05\"][[\"product_id\",\"quantity\"]].groupby(\"product_id\").sum()"
   ]
  },
  {
   "cell_type": "markdown",
   "metadata": {
    "id": "i_AppIjARgiX"
   },
   "source": [
    "## 4. Sorting and Filtering"
   ]
  },
  {
   "cell_type": "code",
   "execution_count": 28,
   "metadata": {
    "id": "FkTsBvLhRgiX"
   },
   "outputs": [
    {
     "data": {
      "text/html": [
       "<div>\n",
       "<style scoped>\n",
       "    .dataframe tbody tr th:only-of-type {\n",
       "        vertical-align: middle;\n",
       "    }\n",
       "\n",
       "    .dataframe tbody tr th {\n",
       "        vertical-align: top;\n",
       "    }\n",
       "\n",
       "    .dataframe thead th {\n",
       "        text-align: right;\n",
       "    }\n",
       "</style>\n",
       "<table border=\"1\" class=\"dataframe\">\n",
       "  <thead>\n",
       "    <tr style=\"text-align: right;\">\n",
       "      <th></th>\n",
       "      <th>order_id</th>\n",
       "      <th>order_date</th>\n",
       "      <th>ship_date</th>\n",
       "      <th>ship_mode</th>\n",
       "      <th>customer_id</th>\n",
       "      <th>product_id</th>\n",
       "      <th>sales</th>\n",
       "      <th>quantity</th>\n",
       "      <th>discount</th>\n",
       "      <th>profit</th>\n",
       "      <th>postal_code</th>\n",
       "      <th>region_id</th>\n",
       "    </tr>\n",
       "  </thead>\n",
       "  <tbody>\n",
       "    <tr>\n",
       "      <th>1266</th>\n",
       "      <td>ES-2018-2955506</td>\n",
       "      <td>2018-12-08</td>\n",
       "      <td>2018-12-08</td>\n",
       "      <td>Second Class</td>\n",
       "      <td>MW-18220</td>\n",
       "      <td>OFF-BI-10001808</td>\n",
       "      <td>393.84</td>\n",
       "      <td>8</td>\n",
       "      <td>0.33</td>\n",
       "      <td>0.29</td>\n",
       "      <td>NaN</td>\n",
       "      <td>6017.0</td>\n",
       "    </tr>\n",
       "    <tr>\n",
       "      <th>0</th>\n",
       "      <td>ES-2019-3581298</td>\n",
       "      <td>2019-10-05</td>\n",
       "      <td>2019-10-10</td>\n",
       "      <td>Standard Class</td>\n",
       "      <td>MW-18220</td>\n",
       "      <td>FUR-BO-10002318</td>\n",
       "      <td>1239.84</td>\n",
       "      <td>3</td>\n",
       "      <td>0.25</td>\n",
       "      <td>0.19</td>\n",
       "      <td>NaN</td>\n",
       "      <td>28804.0</td>\n",
       "    </tr>\n",
       "  </tbody>\n",
       "</table>\n",
       "</div>"
      ],
      "text/plain": [
       "             order_id  order_date   ship_date       ship_mode customer_id  \\\n",
       "1266  ES-2018-2955506  2018-12-08  2018-12-08    Second Class    MW-18220   \n",
       "0     ES-2019-3581298  2019-10-05  2019-10-10  Standard Class    MW-18220   \n",
       "\n",
       "           product_id    sales  quantity  discount  profit  postal_code  \\\n",
       "1266  OFF-BI-10001808   393.84         8      0.33    0.29          NaN   \n",
       "0     FUR-BO-10002318  1239.84         3      0.25    0.19          NaN   \n",
       "\n",
       "      region_id  \n",
       "1266     6017.0  \n",
       "0       28804.0  "
      ]
     },
     "execution_count": 28,
     "metadata": {},
     "output_type": "execute_result"
    }
   ],
   "source": [
    "# A. What are the three most profitable orders purchased by customer PO-8865?\n",
    "orders[orders['customer_id'] == \"MW-18220\"].sort_values(by=\"profit\", ascending=False).head(3)"
   ]
  },
  {
   "cell_type": "code",
   "execution_count": 30,
   "metadata": {
    "id": "u_5B7Rf4RgiX"
   },
   "outputs": [
    {
     "data": {
      "text/html": [
       "<div>\n",
       "<style scoped>\n",
       "    .dataframe tbody tr th:only-of-type {\n",
       "        vertical-align: middle;\n",
       "    }\n",
       "\n",
       "    .dataframe tbody tr th {\n",
       "        vertical-align: top;\n",
       "    }\n",
       "\n",
       "    .dataframe thead th {\n",
       "        text-align: right;\n",
       "    }\n",
       "</style>\n",
       "<table border=\"1\" class=\"dataframe\">\n",
       "  <thead>\n",
       "    <tr style=\"text-align: right;\">\n",
       "      <th></th>\n",
       "      <th>order_id</th>\n",
       "      <th>order_date</th>\n",
       "      <th>ship_date</th>\n",
       "      <th>ship_mode</th>\n",
       "      <th>customer_id</th>\n",
       "      <th>product_id</th>\n",
       "      <th>sales</th>\n",
       "      <th>quantity</th>\n",
       "      <th>discount</th>\n",
       "      <th>profit</th>\n",
       "      <th>postal_code</th>\n",
       "      <th>region_id</th>\n",
       "    </tr>\n",
       "  </thead>\n",
       "  <tbody>\n",
       "    <tr>\n",
       "      <th>1</th>\n",
       "      <td>CA-2018-2597967</td>\n",
       "      <td>2018-12-06</td>\n",
       "      <td>2018-12-08</td>\n",
       "      <td>Standard Class</td>\n",
       "      <td>TS-21430</td>\n",
       "      <td>FUR-FU-10003096</td>\n",
       "      <td>30.36</td>\n",
       "      <td>4</td>\n",
       "      <td>0.28</td>\n",
       "      <td>0.24</td>\n",
       "      <td>NaN</td>\n",
       "      <td>7530.0</td>\n",
       "    </tr>\n",
       "  </tbody>\n",
       "</table>\n",
       "</div>"
      ],
      "text/plain": [
       "          order_id  order_date   ship_date       ship_mode customer_id  \\\n",
       "1  CA-2018-2597967  2018-12-06  2018-12-08  Standard Class    TS-21430   \n",
       "\n",
       "        product_id  sales  quantity  discount  profit  postal_code  region_id  \n",
       "1  FUR-FU-10003096  30.36         4      0.28    0.24          NaN     7530.0  "
      ]
     },
     "execution_count": 30,
     "metadata": {},
     "output_type": "execute_result"
    }
   ],
   "source": [
    "# B. What are the five orders of product_id FUR-FU-10003096 with the highest quanitity?\n",
    "orders[orders['product_id'] == 'FUR-FU-10003096'].sort_values(by='quantity', ascending=False).head(5)"
   ]
  },
  {
   "cell_type": "markdown",
   "metadata": {
    "id": "cOn1IzvkRgiY"
   },
   "source": [
    "## Recap\n",
    "\n",
    "We covered a lot of ground! It's ok if this takes a while to gel.\n",
    "\n",
    "```python\n",
    "\n",
    "# basic DataFrame operations\n",
    "df.head()\n",
    "df.tail()\n",
    "df.shape\n",
    "df.columns\n",
    "df.Index\n",
    "\n",
    "# selecting columns\n",
    "df.column_name\n",
    "df['column_name']\n",
    "\n",
    "# renaming columns\n",
    "df.rename({'old_name':'new_name'}, inplace=True)\n",
    "df.columns = ['new_column_a', 'new_column_b']\n",
    "\n",
    "# notable columns operations\n",
    "df.describe() # five number summary\n",
    "df['col1'].nunique() # number of unique values\n",
    "df['col1'].value_counts() # number of occurrences of each value in column\n",
    "\n",
    "# filtering\n",
    "df[ df['col1'] < 50 ] # filter column to be less than 50\n",
    "df[ (df['col1'] == value1) & (df['col2'] > value2) ] # filter column where col1 is equal to value1 AND col2 is greater to value 2\n",
    "\n",
    "# sorting\n",
    "df.sort_values(by='column_name', ascending = False) # sort biggest to smallest\n",
    "\n",
    "```\n",
    "\n",
    "\n",
    "It's common to refer back to your own code *all the time.* Don't hesistate to reference this guide! 🐼\n",
    "\n",
    "\n"
   ]
  }
 ],
 "metadata": {
  "colab": {
   "name": "11. Exploratory Data Analysis – Solution.ipynb",
   "provenance": []
  },
  "instance_type": "ml.t3.medium",
  "kernelspec": {
   "display_name": "Python 3 (Data Science)",
   "language": "python",
   "name": "python3__SAGEMAKER_INTERNAL__arn:aws:sagemaker:us-west-2:236514542706:image/datascience-1.0"
  },
  "language_info": {
   "codemirror_mode": {
    "name": "ipython",
    "version": 3
   },
   "file_extension": ".py",
   "mimetype": "text/x-python",
   "name": "python",
   "nbconvert_exporter": "python",
   "pygments_lexer": "ipython3",
   "version": "3.7.10"
  }
 },
 "nbformat": 4,
 "nbformat_minor": 4
}
